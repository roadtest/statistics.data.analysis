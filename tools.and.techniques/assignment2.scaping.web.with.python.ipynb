{
 "cells": [
  {
   "cell_type": "code",
   "execution_count": 1,
   "metadata": {
    "collapsed": false
   },
   "outputs": [],
   "source": [
    "import requests\n",
    "import bs4"
   ]
  },
  {
   "cell_type": "code",
   "execution_count": 2,
   "metadata": {
    "collapsed": false
   },
   "outputs": [],
   "source": [
    "response = requests.get('http://pyvideo.org/category/50/pycon-us-2014')"
   ]
  },
  {
   "cell_type": "code",
   "execution_count": 3,
   "metadata": {
    "collapsed": false
   },
   "outputs": [
    {
     "data": {
      "text/plain": [
       "requests.models.Response"
      ]
     },
     "execution_count": 3,
     "metadata": {},
     "output_type": "execute_result"
    }
   ],
   "source": [
    "type(response)"
   ]
  },
  {
   "cell_type": "code",
   "execution_count": 4,
   "metadata": {
    "collapsed": false
   },
   "outputs": [
    {
     "data": {
      "text/plain": [
       "{'content-encoding': 'gzip', 'transfer-encoding': 'chunked', 'set-cookie': 'csrftoken=iuZN5fqgZmJkdo4Lg0A4FGfLcTaGlMZy; expires=Mon, 23-May-2016 18:35:33 GMT; Max-Age=31449600; Path=/', 'vary': 'Cookie', 'server': 'nginx/1.4.6 (Ubuntu)', 'connection': 'keep-alive', 'date': 'Mon, 25 May 2015 18:35:33 GMT', 'content-type': 'text/html; charset=utf-8'}"
      ]
     },
     "execution_count": 4,
     "metadata": {},
     "output_type": "execute_result"
    }
   ],
   "source": [
    "response.headers"
   ]
  },
  {
   "cell_type": "code",
   "execution_count": 5,
   "metadata": {
    "collapsed": false
   },
   "outputs": [
    {
     "data": {
      "text/plain": [
       "unicode"
      ]
     },
     "execution_count": 5,
     "metadata": {},
     "output_type": "execute_result"
    }
   ],
   "source": [
    "type(response.text)"
   ]
  },
  {
   "cell_type": "code",
   "execution_count": 6,
   "metadata": {
    "collapsed": false
   },
   "outputs": [
    {
     "data": {
      "text/plain": [
       "u'\\n\\n\\n\\n\\n\\n<!DOCTYPE html>\\n<html lang=\"en\">\\n<head>\\n  <link rel=\"stylesheet\" href=\"/static/bootstrap-3.1.1/css/bootstrap.min.css\">\\n  <link rel=\"stylesheet\" href=\"/static/css/richard.css\">\\n  <link rel=\"style'"
      ]
     },
     "execution_count": 6,
     "metadata": {},
     "output_type": "execute_result"
    }
   ],
   "source": [
    "response.text[0:200]"
   ]
  },
  {
   "cell_type": "code",
   "execution_count": 7,
   "metadata": {
    "collapsed": false
   },
   "outputs": [
    {
     "name": "stderr",
     "output_type": "stream",
     "text": [
      "/home/cma/anaconda/lib/python2.7/site-packages/bs4/dammit.py:269: UnicodeWarning: Unicode equal comparison failed to convert both arguments to Unicode - interpreting them as being unequal\n",
      "  if (len(data) >= 4) and (data[:2] == b'\\xfe\\xff') \\\n",
      "/home/cma/anaconda/lib/python2.7/site-packages/bs4/dammit.py:273: UnicodeWarning: Unicode equal comparison failed to convert both arguments to Unicode - interpreting them as being unequal\n",
      "  elif (len(data) >= 4) and (data[:2] == b'\\xff\\xfe') \\\n",
      "/home/cma/anaconda/lib/python2.7/site-packages/bs4/dammit.py:277: UnicodeWarning: Unicode equal comparison failed to convert both arguments to Unicode - interpreting them as being unequal\n",
      "  elif data[:3] == b'\\xef\\xbb\\xbf':\n",
      "/home/cma/anaconda/lib/python2.7/site-packages/bs4/dammit.py:280: UnicodeWarning: Unicode equal comparison failed to convert both arguments to Unicode - interpreting them as being unequal\n",
      "  elif data[:4] == b'\\x00\\x00\\xfe\\xff':\n",
      "/home/cma/anaconda/lib/python2.7/site-packages/bs4/dammit.py:283: UnicodeWarning: Unicode equal comparison failed to convert both arguments to Unicode - interpreting them as being unequal\n",
      "  elif data[:4] == b'\\xff\\xfe\\x00\\x00':\n"
     ]
    }
   ],
   "source": [
    "soup = bs4.BeautifulSoup(response.text)\n",
    "\n"
   ]
  },
  {
   "cell_type": "code",
   "execution_count": 8,
   "metadata": {
    "collapsed": false
   },
   "outputs": [],
   "source": [
    "links0  = soup.find_all('a',href=True)"
   ]
  },
  {
   "cell_type": "code",
   "execution_count": 9,
   "metadata": {
    "collapsed": false
   },
   "outputs": [],
   "source": [
    "#for a in links0:\n",
    "#   if 'video' in a['href']:\n",
    "#      print a"
   ]
  },
  {
   "cell_type": "code",
   "execution_count": 10,
   "metadata": {
    "collapsed": false
   },
   "outputs": [],
   "source": [
    "links = soup.select('a[href^=/video]')"
   ]
  },
  {
   "cell_type": "code",
   "execution_count": 11,
   "metadata": {
    "collapsed": false
   },
   "outputs": [],
   "source": [
    "links2 = soup.find('div',{'id':'video-summary-content'}).findAll('a')"
   ]
  },
  {
   "cell_type": "code",
   "execution_count": 12,
   "metadata": {
    "collapsed": false
   },
   "outputs": [
    {
     "data": {
      "text/plain": [
       "bs4.element.ResultSet"
      ]
     },
     "execution_count": 12,
     "metadata": {},
     "output_type": "execute_result"
    }
   ],
   "source": [
    "type(links2)"
   ]
  },
  {
   "cell_type": "code",
   "execution_count": 13,
   "metadata": {
    "collapsed": false
   },
   "outputs": [
    {
     "data": {
      "text/plain": [
       "44"
      ]
     },
     "execution_count": 13,
     "metadata": {},
     "output_type": "execute_result"
    }
   ],
   "source": [
    "len(links2)"
   ]
  },
  {
   "cell_type": "code",
   "execution_count": 14,
   "metadata": {
    "collapsed": false
   },
   "outputs": [],
   "source": [
    "links3=[a.attrs.get('href') for a in soup.find('div',{'id':'video-summary-content'}).findAll('a') ]"
   ]
  },
  {
   "cell_type": "code",
   "execution_count": 15,
   "metadata": {
    "collapsed": false
   },
   "outputs": [],
   "source": [
    "links4=[a.attrs.get('href') for a in soup.select('div.col-md-3 a[href^=/video]') ]"
   ]
  },
  {
   "cell_type": "code",
   "execution_count": 16,
   "metadata": {
    "collapsed": false
   },
   "outputs": [
    {
     "data": {
      "text/plain": [
       "11"
      ]
     },
     "execution_count": 16,
     "metadata": {},
     "output_type": "execute_result"
    }
   ],
   "source": [
    "len(links4)"
   ]
  },
  {
   "cell_type": "code",
   "execution_count": 17,
   "metadata": {
    "collapsed": false
   },
   "outputs": [
    {
     "data": {
      "text/plain": [
       "44"
      ]
     },
     "execution_count": 17,
     "metadata": {},
     "output_type": "execute_result"
    }
   ],
   "source": [
    "len(links3)"
   ]
  },
  {
   "cell_type": "code",
   "execution_count": 18,
   "metadata": {
    "collapsed": false
   },
   "outputs": [],
   "source": [
    "root_url = 'http://pyvideo.org'\n",
    "index_url = root_url + '/category/50/pycon-us-2014'\n",
    "def get_video_page_urls():\n",
    "    response = requests.get(index_url)\n",
    "    soup = bs4.BeautifulSoup(response.text)\n",
    " #   return [a.attrs.get('href') for a in soup.find('div',{'id':'video-summary-content'}).findAll('a') ]\n",
    "    return [a.attrs.get('href') for a in soup.select('div.col-md-3 a[href^=/video]') ]"
   ]
  },
  {
   "cell_type": "code",
   "execution_count": 19,
   "metadata": {
    "collapsed": false
   },
   "outputs": [],
   "source": [
    "response = requests.get('http://pyvideo.org//video/2668/writing-restful-web-services-with-flask')"
   ]
  },
  {
   "cell_type": "code",
   "execution_count": 20,
   "metadata": {
    "collapsed": false
   },
   "outputs": [],
   "source": [
    "soup = bs4.BeautifulSoup(response.text)"
   ]
  },
  {
   "cell_type": "code",
   "execution_count": 21,
   "metadata": {
    "collapsed": false
   },
   "outputs": [
    {
     "data": {
      "text/plain": [
       "<h3 class=\"centered\" property=\"name\">Writing RESTful web services with Flask</h3>"
      ]
     },
     "execution_count": 21,
     "metadata": {},
     "output_type": "execute_result"
    }
   ],
   "source": [
    "soup.select('div#videobox h3')[0]"
   ]
  },
  {
   "cell_type": "code",
   "execution_count": 22,
   "metadata": {
    "collapsed": false
   },
   "outputs": [],
   "source": [
    "response = requests.get('https://www.youtube.com/watch?v=px_vg9Far1Y')"
   ]
  },
  {
   "cell_type": "code",
   "execution_count": 23,
   "metadata": {
    "collapsed": false
   },
   "outputs": [],
   "source": [
    "soup = bs4.BeautifulSoup(response.text)"
   ]
  },
  {
   "cell_type": "code",
   "execution_count": 24,
   "metadata": {
    "collapsed": false
   },
   "outputs": [
    {
     "ename": "IndexError",
     "evalue": "list index out of range",
     "output_type": "error",
     "traceback": [
      "\u001b[1;31m---------------------------------------------------------------------------\u001b[0m",
      "\u001b[1;31mIndexError\u001b[0m                                Traceback (most recent call last)",
      "\u001b[1;32m<ipython-input-24-6cab9be9d570>\u001b[0m in \u001b[0;36m<module>\u001b[1;34m()\u001b[0m\n\u001b[1;32m----> 1\u001b[1;33m \u001b[0msoup\u001b[0m\u001b[1;33m.\u001b[0m\u001b[0mselect\u001b[0m\u001b[1;33m(\u001b[0m\u001b[1;34m'.watch-view-count'\u001b[0m\u001b[1;33m)\u001b[0m\u001b[1;33m[\u001b[0m\u001b[1;36m0\u001b[0m\u001b[1;33m]\u001b[0m\u001b[1;33m.\u001b[0m\u001b[0mget_text\u001b[0m\u001b[1;33m(\u001b[0m\u001b[1;33m)\u001b[0m\u001b[1;33m.\u001b[0m\u001b[0msplit\u001b[0m\u001b[1;33m(\u001b[0m\u001b[1;33m)\u001b[0m\u001b[1;33m\u001b[0m\u001b[0m\n\u001b[0m",
      "\u001b[1;31mIndexError\u001b[0m: list index out of range"
     ]
    }
   ],
   "source": [
    "soup.select('.watch-view-count')[0].get_text().split()"
   ]
  },
  {
   "cell_type": "code",
   "execution_count": null,
   "metadata": {
    "collapsed": false
   },
   "outputs": [],
   "source": [
    "import re\n"
   ]
  },
  {
   "cell_type": "code",
   "execution_count": null,
   "metadata": {
    "collapsed": false
   },
   "outputs": [],
   "source": [
    "re.sub('[^0-9]', '',soup.select('.watch-view-count')[0].get_text().split()[0])"
   ]
  },
  {
   "cell_type": "code",
   "execution_count": null,
   "metadata": {
    "collapsed": false
   },
   "outputs": [],
   "source": [
    "def get_video_data(video_page_url):\n",
    "        video_data = {}\n",
    "        response = requests.get(root_url + video_page_url)\n",
    "        soup = bs4.BeautifulSoup(response.text)\n",
    "        video_data['title'] = soup.select('div#videobox h3')[0].get_text()\n",
    "        video_data['speakers'] = [a.get_text() for a in soup.select('div#sidebar a[href^=/speaker]')]\n",
    " \n",
    "        # initialize counters\n",
    "        video_data['views'] = 0\n",
    "        video_data['likes'] = 0\n",
    "        video_data['dislikes'] = 0\n",
    " \n",
    "        try:\n",
    "            video_data['youtube_url'] = soup.select('div#sidebar a[href^=http://www.youtube.com]')[0].get_text()\n",
    "            response = requests.get(video_data['youtube_url'], headers={'User-Agent': 'Mozilla/5.0 (X11; Linux x86_64) AppleWebKit/537.36 (KHTML, like Gecko) Chrome/32.0.1700.77 Safari/537.36'})\n",
    "            soup = bs4.BeautifulSoup(response.text)\n",
    "            video_data['views'] = int(re.sub('[^0-9]', '',\n",
    "                                         soup.select('.watch-view-count')[0].get_text().split()[0]))\n",
    "            video_data['likes'] = int(re.sub('[^0-9]', '',\n",
    "                                             soup.select('#watch-like-dislike-buttons span.yt-uix-button-content')[0].get_text().split()[0]))\n",
    "            video_data['dislikes'] = int(re.sub('[^0-9]', '',\n",
    "                                            soup.select('#watch-like-dislike-buttons span.yt-uix-button-content')[2].get_text().split()[0]))\n",
    "        except:\n",
    "        # some or all of the counters could not be scraped\n",
    "            pass\n",
    "        return video_data\n"
   ]
  },
  {
   "cell_type": "code",
   "execution_count": null,
   "metadata": {
    "collapsed": false
   },
   "outputs": [],
   "source": [
    "from multiprocessing import Pool\n",
    "\n",
    "def show_video_stats():\n",
    "    #pool = Pool(8)\n",
    "    #video_page_urls = get_video_page_urls()\n",
    "    #results = pool.map(get_video_data, video_page_urls)\n",
    "    \n",
    "    pool = Pool(4)\n",
    "    video_page_urls = get_video_page_urls()\n",
    "    results = sorted(pool.map(get_video_data, video_page_urls), key=lambda video: video[views],\n",
    "                     reverse=True)\n",
    "    print len(results)\n",
    "    max = 25\n",
    "    if max is None or max > len(results):\n",
    "        max = len(results)\n",
    "    if options.csv:\n",
    "        print(u'\"title\",\"speakers\", \"views\",\"likes\",\"dislikes\"')\n",
    "    else:\n",
    "        print(u'Views  +1  -1 Title (Speakers)')\n",
    "    for i in range(max):\n",
    "        if options.csv:\n",
    "            print(u'\"{0}\",\"{1}\",{2},{3},{4}'.format(\n",
    "                results[i]['title'], ', '.join(results[i]['speakers']), results[i]['views'],\n",
    "                results[i]['likes'], results[i]['dislikes']))\n",
    "        else:\n",
    "            print(u'{0:5d} {1:3d} {2:3d} {3} ({4})'.format(\n",
    "                results[i]['views'], results[i]['likes'], results[i]['dislikes'], results[i]['title'],\n",
    "                ', '.join(results[i]['speakers'])))\n"
   ]
  },
  {
   "cell_type": "code",
   "execution_count": null,
   "metadata": {
    "collapsed": false
   },
   "outputs": [],
   "source": [
    "def parse_args():\n",
    "    parser = argparse.ArgumentParser(description='Show PyCon 2014 video statistics.')\n",
    "    parser.add_argument('--sort', metavar='FIELD', choices=['views', 'likes', 'dislikes'],\n",
    "                        default='views',\n",
    "                        help='sort by the specified field. Options are views, likes and dislikes.')\n",
    "    parser.add_argument('--max', metavar='MAX', type=int, default=20, help='show the top MAX entries only.')\n",
    "    parser.add_argument('--csv', action='store_true', default=False,\n",
    "                        help='output the data in CSV format.')\n",
    "    parser.add_argument('--workers', type=int, default=4,\n",
    "                        help='number of workers to use, 8 by default.')\n",
    "    return parser.parse_args()\n"
   ]
  },
  {
   "cell_type": "code",
   "execution_count": null,
   "metadata": {
    "collapsed": false
   },
   "outputs": [],
   "source": [
    "import argparse"
   ]
  },
  {
   "cell_type": "code",
   "execution_count": null,
   "metadata": {
    "collapsed": false
   },
   "outputs": [],
   "source": [
    "show_video_stats(parse_args()) --sort views  --max 25 --workers 4"
   ]
  },
  {
   "cell_type": "code",
   "execution_count": 25,
   "metadata": {
    "collapsed": false
   },
   "outputs": [
    {
     "name": "stdout",
     "output_type": "stream",
     "text": [
      "11\n",
      "Views  +1  -1 Title (Speakers)\n",
      "    0   0   0 2D/3D graphics with Python on mobile platforms (Niko Skrypnik)\n",
      "    0   0   0 Advanced techniques for Web functional testing (Julien Phalip)\n",
      "    0   0   0 Analyzing Rap Lyrics with Python (Julie Lavoie)\n",
      "    0   0   0 A Scenic Drive through the Django Request-Response Cycle (Dan Langer)\n",
      "    0   0   0 Building the App (Mike Bayer)\n",
      "    0   0   0 Cheap Helicopters In My Living Room (Ned Jackson Lovely)\n",
      "    0   0   0 Closing address - PyCon 2014 (2014/04/13) ()\n",
      "    0   0   0 Data intensive biology in the cloud: instrumenting ALL the things (C. Titus Brown)\n",
      "    0   0   0 Deliver Your Software In An Envelope (Augie Fackler, Nathaniel Manista)\n",
      "    0   0   0 Designing Django's Migrations (Andrew Godwin)\n",
      "    0   0   0 Designing Poetic APIs (Erik Rose)\n",
      "\n",
      "IPython CPU timings (estimated):\n",
      "  User   :       1.37 s.\n",
      "  System :       0.34 s.\n",
      "Wall time:      69.40 s.\n"
     ]
    }
   ],
   "source": [
    "%run -t /var/tmp/git/python.data.analysis.video/gist.course/pycon-views.py --sort views --max 25 --workers 4\n"
   ]
  },
  {
   "cell_type": "code",
   "execution_count": null,
   "metadata": {
    "collapsed": false
   },
   "outputs": [],
   "source": []
  }
 ],
 "metadata": {
  "kernelspec": {
   "display_name": "Python 2",
   "language": "python",
   "name": "python2"
  },
  "language_info": {
   "codemirror_mode": {
    "name": "ipython",
    "version": 2
   },
   "file_extension": ".py",
   "mimetype": "text/x-python",
   "name": "python",
   "nbconvert_exporter": "python",
   "pygments_lexer": "ipython2",
   "version": "2.7.9"
  }
 },
 "nbformat": 4,
 "nbformat_minor": 0
}
