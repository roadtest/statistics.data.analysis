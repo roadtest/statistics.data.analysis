{
 "cells": [
  {
   "cell_type": "code",
   "execution_count": 1,
   "metadata": {
    "collapsed": true
   },
   "outputs": [],
   "source": [
    "import pymongo"
   ]
  },
  {
   "cell_type": "code",
   "execution_count": 2,
   "metadata": {
    "collapsed": false
   },
   "outputs": [
    {
     "ename": "NameError",
     "evalue": "name 'db' is not defined",
     "output_type": "error",
     "traceback": [
      "\u001b[1;31m---------------------------------------------------------------------------\u001b[0m",
      "\u001b[1;31mNameError\u001b[0m                                 Traceback (most recent call last)",
      "\u001b[1;32m<ipython-input-2-14f4f0331fe7>\u001b[0m in \u001b[0;36m<module>\u001b[1;34m()\u001b[0m\n\u001b[1;32m----> 1\u001b[1;33m \u001b[0mdb\u001b[0m\u001b[1;33m.\u001b[0m\u001b[0minventory\u001b[0m\u001b[1;33m.\u001b[0m\u001b[0mfind\u001b[0m\u001b[1;33m(\u001b[0m\u001b[1;33m{\u001b[0m\u001b[1;33m}\u001b[0m\u001b[1;33m)\u001b[0m\u001b[1;33m\u001b[0m\u001b[0m\n\u001b[0m",
      "\u001b[1;31mNameError\u001b[0m: name 'db' is not defined"
     ]
    }
   ],
   "source": [
    "db.inventory.find({})"
   ]
  },
  {
   "cell_type": "code",
   "execution_count": 3,
   "metadata": {
    "collapsed": true
   },
   "outputs": [],
   "source": [
    "import json\n",
    "from bson import json_util"
   ]
  },
  {
   "cell_type": "code",
   "execution_count": 4,
   "metadata": {
    "collapsed": true
   },
   "outputs": [],
   "source": [
    "client = pymongo.MongoClient()"
   ]
  },
  {
   "cell_type": "code",
   "execution_count": 5,
   "metadata": {
    "collapsed": true
   },
   "outputs": [],
   "source": [
    "db = client.enron"
   ]
  },
  {
   "cell_type": "code",
   "execution_count": 6,
   "metadata": {
    "collapsed": true
   },
   "outputs": [],
   "source": [
    "mbox = db.mbox"
   ]
  },
  {
   "cell_type": "code",
   "execution_count": 7,
   "metadata": {
    "collapsed": false
   },
   "outputs": [
    {
     "name": "stdout",
     "output_type": "stream",
     "text": [
      "Number of message in mbox:\n",
      "41299\n"
     ]
    }
   ],
   "source": [
    "print \"Number of message in mbox:\"\n",
    "print mbox.count()\n"
   ]
  },
  {
   "cell_type": "code",
   "execution_count": 8,
   "metadata": {
    "collapsed": true
   },
   "outputs": [],
   "source": [
    "msg = mbox.find_one()"
   ]
  },
  {
   "cell_type": "code",
   "execution_count": 12,
   "metadata": {
    "collapsed": false
   },
   "outputs": [],
   "source": [
    "#print json.dumps(msg,indent=1,default=json_util.default)"
   ]
  },
  {
   "cell_type": "code",
   "execution_count": 11,
   "metadata": {
    "collapsed": false
   },
   "outputs": [
    {
     "name": "stdout",
     "output_type": "stream",
     "text": [
      "Num Senders: 7665\n",
      "Num Receivers: 22162\n",
      "Num CC Receivers: 6561\n",
      "Num BCC Receivers: 6561\n"
     ]
    }
   ],
   "source": [
    "senders = [ i for i in mbox.distinct(\"From\") ]\n",
    "\n",
    "receivers = [ i for i in mbox.distinct(\"To\") ]\n",
    "\n",
    "cc_receivers = [ i for i in mbox.distinct(\"Cc\") ]\n",
    "\n",
    "bcc_receivers = [ i for i in mbox.distinct(\"Bcc\") ]\n",
    "\n",
    "print \"Num Senders:\", len(senders)\n",
    "print \"Num Receivers:\", len(receivers)\n",
    "print \"Num CC Receivers:\", len(cc_receivers)\n",
    "print \"Num BCC Receivers:\", len(bcc_receivers)"
   ]
  },
  {
   "cell_type": "code",
   "execution_count": 14,
   "metadata": {
    "collapsed": false
   },
   "outputs": [
    {
     "name": "stdout",
     "output_type": "stream",
     "text": [
      "Num senders in common with receivers: 3220\n",
      "Num senders who didn't receive: 4445\n",
      "Num receivers who didn't send: 18942\n",
      "Num senders in common with *all* receivers: 3440\n"
     ]
    }
   ],
   "source": [
    "senders = set(senders)\n",
    "receivers = set(receivers)\n",
    "cc_receivers = set(cc_receivers)\n",
    "bcc_receivers = set(bcc_receivers)\n",
    "\n",
    "# Find the number of senders who were also direct receivers\n",
    "\n",
    "senders_intersect_receivers = senders.intersection(receivers)\n",
    "\n",
    "# Find the senders that didn't receive any messages\n",
    "\n",
    "senders_diff_receivers = senders.difference(receivers)\n",
    "\n",
    "# Find the receivers that didn't send any messages\n",
    "\n",
    "receivers_diff_senders = receivers.difference(senders)\n",
    "\n",
    "# Find the senders who were any kind of receiver by\n",
    "# first computing the union of all types of receivers\n",
    "\n",
    "all_receivers = receivers.union(cc_receivers, bcc_receivers)\n",
    "senders_all_receivers = senders.intersection(all_receivers)\n",
    "\n",
    "print \"Num senders in common with receivers:\", len(senders_intersect_receivers)\n",
    "print \"Num senders who didn't receive:\", len(senders_diff_receivers)\n",
    "print \"Num receivers who didn't send:\", len(receivers_diff_senders)\n",
    "print \"Num senders in common with *all* receivers:\", len(senders_all_receivers)"
   ]
  },
  {
   "cell_type": "code",
   "execution_count": 15,
   "metadata": {
    "collapsed": false
   },
   "outputs": [
    {
     "name": "stdout",
     "output_type": "stream",
     "text": [
      "Num Senders: 3137\n",
      "Num Receivers: 16653\n",
      "Num CC Receivers: 4890\n",
      "Num BCC Receivers: 4890\n"
     ]
    }
   ],
   "source": [
    "senders = [ i \n",
    "            for i in mbox.distinct(\"From\") \n",
    "                if i.lower().find(\"@enron.com\") > -1 ]\n",
    "\n",
    "receivers = [ i \n",
    "              for i in mbox.distinct(\"To\") \n",
    "                  if i.lower().find(\"@enron.com\") > -1 ]\n",
    "\n",
    "cc_receivers = [ i \n",
    "                 for i in mbox.distinct(\"Cc\") \n",
    "                     if i.lower().find(\"@enron.com\") > -1 ]\n",
    "\n",
    "bcc_receivers = [ i \n",
    "                  for i in mbox.distinct(\"Bcc\") \n",
    "                      if i.lower().find(\"@enron.com\") > -1 ]\n",
    "\n",
    "print \"Num Senders:\", len(senders)\n",
    "print \"Num Receivers:\", len(receivers)\n",
    "print \"Num CC Receivers:\", len(cc_receivers)\n",
    "print \"Num BCC Receivers:\", len(bcc_receivers)"
   ]
  },
  {
   "cell_type": "code",
   "execution_count": 31,
   "metadata": {
    "collapsed": false
   },
   "outputs": [
    {
     "name": "stdout",
     "output_type": "stream",
     "text": [
      "Number of message sent to: 659\n",
      "Number of messages sent from: 0\n"
     ]
    }
   ],
   "source": [
    "#aliases = [\"kenneth.lay@enron.com\", \"ken_lay@enron.com\", \"ken.lay@enron.com\", \n",
    "  #         \"kenneth_lay@enron.net\", \"klay@enron.com\"] # More possibilities?\n",
    "aliases = [\"jeffrey.skilling@enron.com\", \"jskilling@enron.com\", \"jeffrey_skilling@enron.com\",\n",
    "            \"jeff.skilling@enron.com\", \"jeff_skilling@enron.com\"] \n",
    "    \n",
    "to_msgs = [ msg \n",
    "            for msg in mbox.find({\"To\" : { \"$in\" : aliases } })]\n",
    "\n",
    "from_msgs = [ msg \n",
    "         for msg in mbox.find({\"From\" : { \"$in\" : aliases } })]\n",
    "\n",
    "print \"Number of message sent to:\", len(to_msgs)\n",
    "print \"Number of messages sent from:\", len(from_msgs)"
   ]
  },
  {
   "cell_type": "code",
   "execution_count": null,
   "metadata": {
    "collapsed": true
   },
   "outputs": [],
   "source": []
  }
 ],
 "metadata": {
  "kernelspec": {
   "display_name": "Python 2",
   "language": "python",
   "name": "python2"
  },
  "language_info": {
   "codemirror_mode": {
    "name": "ipython",
    "version": 2
   },
   "file_extension": ".py",
   "mimetype": "text/x-python",
   "name": "python",
   "nbconvert_exporter": "python",
   "pygments_lexer": "ipython2",
   "version": "2.7.10"
  }
 },
 "nbformat": 4,
 "nbformat_minor": 0
}
